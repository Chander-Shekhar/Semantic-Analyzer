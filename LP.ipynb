{
 "cells": [
  {
   "cell_type": "code",
   "execution_count": 2,
   "metadata": {},
   "outputs": [],
   "source": [
    "import sympy as sp\n",
    "import numpy as np\n",
    "from scipy.linalg import null_space\n",
    "import math"
   ]
  },
  {
   "cell_type": "code",
   "execution_count": null,
   "metadata": {},
   "outputs": [],
   "source": [
    "def extremePoint(A,B,C,x):\n",
    "    "
   ]
  },
  {
   "cell_type": "code",
   "execution_count": 34,
   "metadata": {},
   "outputs": [
    {
     "name": "stdout",
     "output_type": "stream",
     "text": [
      "[[ 90.  -45. ]\n",
      " [-45.   22.5]]\n"
     ]
    },
    {
     "ename": "ValueError",
     "evalue": "setting an array element with a sequence.",
     "output_type": "error",
     "traceback": [
      "\u001b[0;31m---------------------------------------------------------------------------\u001b[0m",
      "\u001b[0;31mValueError\u001b[0m                                Traceback (most recent call last)",
      "\u001b[0;32m<ipython-input-34-e0e5bfe49cde>\u001b[0m in \u001b[0;36m<module>\u001b[0;34m\u001b[0m\n\u001b[1;32m     51\u001b[0m \u001b[0;31m#         print(A[rand])\u001b[0m\u001b[0;34m\u001b[0m\u001b[0;34m\u001b[0m\u001b[0;34m\u001b[0m\u001b[0m\n\u001b[1;32m     52\u001b[0m         \u001b[0;32mfor\u001b[0m \u001b[0mi\u001b[0m \u001b[0;32min\u001b[0m \u001b[0mrange\u001b[0m\u001b[0;34m(\u001b[0m\u001b[0minitial_point\u001b[0m\u001b[0;34m.\u001b[0m\u001b[0mshape\u001b[0m\u001b[0;34m[\u001b[0m\u001b[0;36m0\u001b[0m\u001b[0;34m]\u001b[0m\u001b[0;34m)\u001b[0m\u001b[0;34m:\u001b[0m\u001b[0;34m\u001b[0m\u001b[0;34m\u001b[0m\u001b[0m\n\u001b[0;32m---> 53\u001b[0;31m             \u001b[0minitial_point\u001b[0m\u001b[0;34m[\u001b[0m\u001b[0mi\u001b[0m\u001b[0;34m]\u001b[0m \u001b[0;34m=\u001b[0m \u001b[0minitial_point\u001b[0m\u001b[0;34m[\u001b[0m\u001b[0mi\u001b[0m\u001b[0;34m]\u001b[0m \u001b[0;34m+\u001b[0m \u001b[0mt\u001b[0m\u001b[0;34m*\u001b[0m\u001b[0mA\u001b[0m\u001b[0;34m[\u001b[0m\u001b[0mrand\u001b[0m\u001b[0;34m,\u001b[0m\u001b[0mi\u001b[0m\u001b[0;34m]\u001b[0m\u001b[0;34m\u001b[0m\u001b[0;34m\u001b[0m\u001b[0m\n\u001b[0m\u001b[1;32m     54\u001b[0m     \u001b[0mprint\u001b[0m\u001b[0;34m(\u001b[0m\u001b[0minitial_point\u001b[0m\u001b[0;34m)\u001b[0m\u001b[0;34m\u001b[0m\u001b[0;34m\u001b[0m\u001b[0m\n\u001b[1;32m     55\u001b[0m     \u001b[0mrows\u001b[0m\u001b[0;34m=\u001b[0m\u001b[0;34m[\u001b[0m\u001b[0;34m]\u001b[0m\u001b[0;34m\u001b[0m\u001b[0;34m\u001b[0m\u001b[0m\n",
      "\u001b[0;31mValueError\u001b[0m: setting an array element with a sequence."
     ]
    }
   ],
   "source": [
    "# _, inds = sp.Matrix(A).T.rref()\n",
    "# inds = list(inds)\n",
    "# inds_dep = [i for i in range(A.shape[0]) if i not in inds]\n",
    "\n",
    "# A1 = A[inds]\n",
    "# B1 = B[inds]\n",
    "\n",
    "# A2 = A[inds_dep]\n",
    "# B2 = B[inds_dep]\n",
    "# x = np.linalg.solve(A1, B1)\n",
    "\n",
    "# for i in range(A2.shape[0]):\n",
    "#     if np.dot(A2[i],x) > B2[i]:\n",
    "#         print(\"Problem Infeasible\")\n",
    "#         #exit\n",
    "# A = np.array([[1,1,1],[3,5,9],[0,1,2],[-1,0,1]])\n",
    "# A = np.array([[20,12],[5,5],[-1,0],[0,-1]])\n",
    "# B = np.array([2000,540,0,0])\n",
    "# C = np.array([25,20])\n",
    "A = np.array([[2,1],[2,3],[3,1]])\n",
    "B = np.array([18,42,24])\n",
    "C = np.array([3,2])\n",
    "flag= True\n",
    "minb=math.inf\n",
    "for i in B:\n",
    "    if i<0:\n",
    "        minb=min(minb,i)\n",
    "        flag=False\n",
    "if (flag==False):\n",
    "    initial_point=np.zeros(B.shape[0])\n",
    "    initial_point[B.shape[0]-1]=minb\n",
    "    A = np.append(A,np.zeros((1,C.shape[0])),axis=0)\n",
    "    A = np.append(A,np.ones((B.shape[0]+1,1)),axis=1)\n",
    "    B = np.append(B,minb)\n",
    "#     x=extremePoint(A,B,C,initial_point)\n",
    "#     print(A,B)\n",
    "else:\n",
    "    initial_point=np.zeros(C.shape[0])\n",
    "#     print(initial_point,A)\n",
    "    for i in range(A.shape[0]):\n",
    "        if abs(A[i].dot(initial_point) - B[i]) < 0.000000001:\n",
    "            flag=False\n",
    "            break\n",
    "    if flag==True:\n",
    "        rand = np.random.choice(3, 1)-1\n",
    "#         print(rand)\n",
    "#         print(null_space(A[rand]))\n",
    "        xy=null_space(A[rand])\n",
    "        t=(B[rand]-np.dot(np.transpose(xy),initial_point))/np.dot(xy,np.transpose(xy))\n",
    "        print(t)\n",
    "#         print(A[rand])\n",
    "        for i in range(initial_point.shape[0]):\n",
    "            initial_point[i] = initial_point[i] + t*A[rand,i]\n",
    "    print(initial_point)\n",
    "    rows=[]\n",
    "#     print(\"yes\")\n",
    "    for i in range(A.shape[0]):\n",
    "        if abs(A[i].dot(initial_point) - B[i]) > 0.000000001:\n",
    "#             print(A[i].dot(initial_point))\n",
    "            rows.append(i)\n",
    "    r=np.array(rows,dtype=np.int64)\n",
    "    Ar=A[r]\n",
    "    print(Ar)\n",
    "    if r.size!=0:\n",
    "        null=null_space(Ar)\n",
    "        print(null)\n",
    "#     for i in range(null.shape[0]):\n",
    "#         t=B[i]-A[i].dot(initial_point)/np.dot(A[i],np.transpose(A[i]))\n",
    "#     x=extremePoint(A,B,C,initial_point)\n",
    "# print(initial_point)\n",
    "        "
   ]
  },
  {
   "cell_type": "code",
   "execution_count": 27,
   "metadata": {},
   "outputs": [
    {
     "ename": "NameError",
     "evalue": "name 'A1' is not defined",
     "output_type": "error",
     "traceback": [
      "\u001b[0;31m---------------------------------------------------------------------------\u001b[0m",
      "\u001b[0;31mNameError\u001b[0m                                 Traceback (most recent call last)",
      "\u001b[0;32m<ipython-input-27-fb3c4a9fffd5>\u001b[0m in \u001b[0;36m<module>\u001b[0;34m\u001b[0m\n\u001b[1;32m      1\u001b[0m \u001b[0;32mwhile\u001b[0m\u001b[0;34m(\u001b[0m\u001b[0;32mTrue\u001b[0m\u001b[0;34m)\u001b[0m\u001b[0;34m:\u001b[0m\u001b[0;34m\u001b[0m\u001b[0;34m\u001b[0m\u001b[0m\n\u001b[0;32m----> 2\u001b[0;31m     \u001b[0mprint\u001b[0m\u001b[0;34m(\u001b[0m\u001b[0mA1\u001b[0m\u001b[0;34m)\u001b[0m\u001b[0;34m\u001b[0m\u001b[0;34m\u001b[0m\u001b[0m\n\u001b[0m\u001b[1;32m      3\u001b[0m     \u001b[0mdir_vecs\u001b[0m \u001b[0;34m=\u001b[0m \u001b[0;34m-\u001b[0m\u001b[0mnp\u001b[0m\u001b[0;34m.\u001b[0m\u001b[0mlinalg\u001b[0m\u001b[0;34m.\u001b[0m\u001b[0minv\u001b[0m\u001b[0;34m(\u001b[0m\u001b[0mA1\u001b[0m\u001b[0;34m)\u001b[0m\u001b[0;34m\u001b[0m\u001b[0;34m\u001b[0m\u001b[0m\n\u001b[1;32m      4\u001b[0m     \u001b[0mbest_dir\u001b[0m \u001b[0;34m=\u001b[0m \u001b[0;34m-\u001b[0m\u001b[0;36m1\u001b[0m\u001b[0;34m\u001b[0m\u001b[0;34m\u001b[0m\u001b[0m\n\u001b[1;32m      5\u001b[0m     \u001b[0mmax_dot\u001b[0m \u001b[0;34m=\u001b[0m \u001b[0;36m0\u001b[0m\u001b[0;34m\u001b[0m\u001b[0;34m\u001b[0m\u001b[0m\n",
      "\u001b[0;31mNameError\u001b[0m: name 'A1' is not defined"
     ]
    }
   ],
   "source": [
    "while(True):\n",
    "    print(A1)\n",
    "    dir_vecs = -np.linalg.inv(A1)\n",
    "    best_dir = -1\n",
    "    max_dot = 0\n",
    "    for i in range(dir_vecs.shape[1]):\n",
    "        curr_dot = np.dot(dir_vecs.T[i], C)\n",
    "        if curr_dot > max_dot:\n",
    "            best_dir = i\n",
    "            max_dot = curr_dot\n",
    "\n",
    "    if best_dir == -1:\n",
    "        print(\"Maximum possible CX: {}\".format(np.dot(C, x)))\n",
    "        print(\"Best X: {}\".format(x))\n",
    "        break\n",
    "    \n",
    "    t = math.inf\n",
    "    index = -1\n",
    "    for i in range(A2.shape[0]):\n",
    "        curr_dot = np.dot(A2[i], x)\n",
    "        tmp_dot=np.dot(A2[i], dir_vecs[best_dir])\n",
    "        print(curr_dot)\n",
    "        if tmp_dot > 0 and (B2[i] - curr_dot)/tmp_dot < t:  \n",
    "            t = (B2[i] - curr_dot)/tmp_dot\n",
    "            index = i\n",
    "    \n",
    "    if t == math.inf:\n",
    "        print(\"Problem Unbounded...\")\n",
    "        break\n",
    "    x = x + t*dir_vecs.T[best_dir]\n",
    "    \n",
    "    A1[best_dir], A2[index] = A2[index], A1[best_dir]\n",
    "\n"
   ]
  },
  {
   "cell_type": "code",
   "execution_count": null,
   "metadata": {},
   "outputs": [],
   "source": []
  },
  {
   "cell_type": "code",
   "execution_count": null,
   "metadata": {},
   "outputs": [],
   "source": []
  },
  {
   "cell_type": "code",
   "execution_count": null,
   "metadata": {},
   "outputs": [],
   "source": []
  }
 ],
 "metadata": {
  "kernelspec": {
   "display_name": "Python 3",
   "language": "python",
   "name": "python3"
  },
  "language_info": {
   "codemirror_mode": {
    "name": "ipython",
    "version": 3
   },
   "file_extension": ".py",
   "mimetype": "text/x-python",
   "name": "python",
   "nbconvert_exporter": "python",
   "pygments_lexer": "ipython3",
   "version": "3.7.4"
  }
 },
 "nbformat": 4,
 "nbformat_minor": 2
}
