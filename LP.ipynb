{
 "cells": [
  {
   "cell_type": "code",
   "execution_count": 2,
   "metadata": {},
   "outputs": [],
   "source": [
    "import sympy as sp\n",
    "import numpy as np\n",
    "import math"
   ]
  },
  {
   "cell_type": "code",
   "execution_count": 3,
   "metadata": {},
   "outputs": [],
   "source": [
    "# A = np.array([[1,1,1],[3,5,9],[0,1,2],[-1,0,1]])\n",
    "# A = np.array([[20,12],[5,5],[-1,0],[0,-1]])\n",
    "# B = np.array([2000,540,0,0])\n",
    "# C = np.array([25,20])\n",
    "A = np.array([[2,1],[2,3],[3,1]])\n",
    "B = np.array([18,42,24])\n",
    "C = np.array([3,2])"
   ]
  },
  {
   "cell_type": "code",
   "execution_count": 4,
   "metadata": {},
   "outputs": [],
   "source": [
    "_, inds = sp.Matrix(A).T.rref()\n",
    "inds = list(inds)\n",
    "inds_dep = [i for i in range(A.shape[0]) if i not in inds]\n",
    "\n",
    "A1 = A[inds]\n",
    "B1 = B[inds]\n",
    "\n",
    "A2 = A[inds_dep]\n",
    "B2 = B[inds_dep]\n",
    "x = np.linalg.solve(A1, B1)\n",
    "\n",
    "for i in range(A2.shape[0]):\n",
    "    if np.dot(A2[i],x) > B2[i]:\n",
    "        print(\"Problem Infeasible\")\n",
    "        #exit\n",
    "\n",
    "        "
   ]
  },
  {
   "cell_type": "code",
   "execution_count": 5,
   "metadata": {},
   "outputs": [
    {
     "name": "stdout",
     "output_type": "stream",
     "text": [
      "[[2 1]\n",
      " [2 3]]\n",
      "Maximum possible CX: 33.0\n",
      "Best X: [ 3. 12.]\n"
     ]
    }
   ],
   "source": [
    "while(True):\n",
    "    print(A1)\n",
    "    dir_vecs = -np.linalg.inv(A1)\n",
    "    best_dir = -1\n",
    "    max_dot = 0\n",
    "    for i in range(dir_vecs.shape[1]):\n",
    "        curr_dot = np.dot(dir_vecs.T[i], C)\n",
    "        if curr_dot > max_dot:\n",
    "            best_dir = i\n",
    "            max_dot = curr_dot\n",
    "\n",
    "    if best_dir == -1:\n",
    "        print(\"Maximum possible CX: {}\".format(np.dot(C, x)))\n",
    "        print(\"Best X: {}\".format(x))\n",
    "        break\n",
    "    \n",
    "    t = math.inf\n",
    "    index = -1\n",
    "    for i in range(A2.shape[0]):\n",
    "        curr_dot = np.dot(A2[i], x)\n",
    "        tmp_dot=np.dot(A2[i], dir_vecs[best_dir])\n",
    "        print(curr_dot)\n",
    "        if tmp_dot > 0 and (B2[i] - curr_dot)/tmp_dot < t:  \n",
    "            t = (B2[i] - curr_dot)/tmp_dot\n",
    "            index = i\n",
    "    \n",
    "    if t == math.inf:\n",
    "        print(\"Problem Unbounded...\")\n",
    "        break\n",
    "    x = x + t*dir_vecs.T[best_dir]\n",
    "    \n",
    "    A1[best_dir], A2[index] = A2[index], A1[best_dir]\n",
    "\n"
   ]
  },
  {
   "cell_type": "code",
   "execution_count": null,
   "metadata": {},
   "outputs": [],
   "source": []
  },
  {
   "cell_type": "code",
   "execution_count": null,
   "metadata": {},
   "outputs": [],
   "source": []
  },
  {
   "cell_type": "code",
   "execution_count": null,
   "metadata": {},
   "outputs": [],
   "source": []
  }
 ],
 "metadata": {
  "kernelspec": {
   "display_name": "Python 3",
   "language": "python",
   "name": "python3"
  },
  "language_info": {
   "codemirror_mode": {
    "name": "ipython",
    "version": 3
   },
   "file_extension": ".py",
   "mimetype": "text/x-python",
   "name": "python",
   "nbconvert_exporter": "python",
   "pygments_lexer": "ipython3",
   "version": "3.7.4"
  }
 },
 "nbformat": 4,
 "nbformat_minor": 2
}
